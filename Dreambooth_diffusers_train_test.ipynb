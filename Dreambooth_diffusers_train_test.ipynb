{
  "nbformat": 4,
  "nbformat_minor": 0,
  "metadata": {
    "colab": {
      "provenance": [],
      "gpuType": "A100"
    },
    "kernelspec": {
      "name": "python3",
      "display_name": "Python 3"
    },
    "language_info": {
      "name": "python"
    },
    "accelerator": "GPU"
  },
  "cells": [
    {
      "cell_type": "markdown",
      "source": [
        "**Setup the Environment**"
      ],
      "metadata": {
        "id": "__0gkHMTaXGy"
      }
    },
    {
      "cell_type": "code",
      "execution_count": null,
      "metadata": {
        "id": "u4X8QeQIHZk5"
      },
      "outputs": [],
      "source": [
        "# Used A100 for training and inference which takes about 5 minutes.\n",
        "\n",
        "!git clone https://github.com/huggingface/diffusers\n",
        "%cd diffusers\n",
        "!pip install -e .\n",
        "%cd examples/dreambooth\n",
        "!pip install -r requirements.txt\n",
        "!accelerate config default"
      ]
    },
    {
      "cell_type": "markdown",
      "source": [
        "**Download Dataset**"
      ],
      "metadata": {
        "id": "alFwzIEjaimP"
      }
    },
    {
      "cell_type": "code",
      "source": [
        "from huggingface_hub import snapshot_download\n",
        "\n",
        "local_dir = \"./dog\"\n",
        "snapshot_download(\n",
        "    \"diffusers/dog-example\",\n",
        "    local_dir=local_dir, repo_type=\"dataset\",\n",
        "    ignore_patterns=\".gitattributes\",\n",
        ")"
      ],
      "metadata": {
        "id": "Bi_aeWQZIlDz"
      },
      "execution_count": null,
      "outputs": []
    },
    {
      "cell_type": "markdown",
      "source": [
        "**Training**"
      ],
      "metadata": {
        "id": "tAyx5lUMamoZ"
      }
    },
    {
      "cell_type": "code",
      "source": [
        "from huggingface_hub import notebook_login\n",
        "notebook_login()\n",
        "# Go to this url and generate token, then copy it below: https://huggingface.co/settings/tokens"
      ],
      "metadata": {
        "id": "gjbR9dUmOq-h"
      },
      "execution_count": null,
      "outputs": []
    },
    {
      "cell_type": "code",
      "source": [
        "!accelerate launch train_dreambooth.py \\\n",
        "  --pretrained_model_name_or_path=\"CompVis/stable-diffusion-v1-4\"  \\\n",
        "  --instance_data_dir=\"dog\" \\\n",
        "  --class_data_dir=\"dog_class\" \\\n",
        "  --output_dir=\"dog_model\" \\\n",
        "  --with_prior_preservation --prior_loss_weight=1.0 \\\n",
        "  --instance_prompt=\"a photo of sks dog\" \\\n",
        "  --class_prompt=\"a photo of dog\" \\\n",
        "  --resolution=512 \\\n",
        "  --train_batch_size=1 \\\n",
        "  --gradient_accumulation_steps=1 \\\n",
        "  --learning_rate=5e-6 \\\n",
        "  --lr_scheduler=\"constant\" \\\n",
        "  --lr_warmup_steps=0 \\\n",
        "  --num_class_images=500 \\\n",
        "  --max_train_steps=1000\n"
      ],
      "metadata": {
        "id": "n0tJiA8vKWvf"
      },
      "execution_count": null,
      "outputs": []
    },
    {
      "cell_type": "markdown",
      "source": [
        "**Inference**"
      ],
      "metadata": {
        "id": "rBVtOPqEao5u"
      }
    },
    {
      "cell_type": "code",
      "source": [
        "from diffusers import StableDiffusionPipeline\n",
        "import torch\n",
        "\n",
        "model_id = \"dog_model\"\n",
        "pipe = StableDiffusionPipeline.from_pretrained(model_id, torch_dtype=torch.float16).to(\"cuda\")"
      ],
      "metadata": {
        "id": "mVX8_82YQ4uc"
      },
      "execution_count": null,
      "outputs": []
    },
    {
      "cell_type": "code",
      "source": [
        "prompt = \"A photo of sks dog in a bucket\"\n",
        "image = pipe(prompt, num_inference_steps=50, guidance_scale=7.5).images[0]\n",
        "image.save(\"dog_1.png\")"
      ],
      "metadata": {
        "id": "kRi1e71fX3hA"
      },
      "execution_count": null,
      "outputs": []
    },
    {
      "cell_type": "code",
      "source": [
        "prompt = \"A photo of sks dog on the grass\"\n",
        "image = pipe(prompt, num_inference_steps=50, guidance_scale=7.5).images[0]\n",
        "image.save(\"dog_2.png\")"
      ],
      "metadata": {
        "id": "wMRbhW2_X31u"
      },
      "execution_count": null,
      "outputs": []
    },
    {
      "cell_type": "code",
      "source": [
        "prompt = \"A photo of sks dog in a car\"\n",
        "image = pipe(prompt, num_inference_steps=50, guidance_scale=7.5).images[0]\n",
        "image.save(\"dog_3.png\")"
      ],
      "metadata": {
        "id": "DukIgGItX4HG"
      },
      "execution_count": null,
      "outputs": []
    }
  ]
}